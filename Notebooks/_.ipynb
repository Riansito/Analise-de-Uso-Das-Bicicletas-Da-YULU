{
 "cells": [
  {
   "cell_type": "code",
   "execution_count": 2,
   "id": "69150668",
   "metadata": {},
   "outputs": [],
   "source": [
    "import pandas as pd"
   ]
  },
  {
   "cell_type": "code",
   "execution_count": 5,
   "id": "dd69802b",
   "metadata": {},
   "outputs": [],
   "source": [
    "df = pd.read_csv(\"../Dados/Bicicletas_Yulu_Dashboard.csv\", index_col = 0)"
   ]
  },
  {
   "cell_type": "code",
   "execution_count": 9,
   "id": "fcc486af",
   "metadata": {},
   "outputs": [],
   "source": [
    "df[\"Temperatura\"] = df[\"Temperatura\"].apply(lambda x: round(x, 2))"
   ]
  },
  {
   "cell_type": "code",
   "execution_count": 11,
   "id": "bcac4255",
   "metadata": {},
   "outputs": [],
   "source": [
    "df.to_excel(\"../Dados/Teste.xlsx\")"
   ]
  }
 ],
 "metadata": {
  "kernelspec": {
   "display_name": "base",
   "language": "python",
   "name": "python3"
  },
  "language_info": {
   "codemirror_mode": {
    "name": "ipython",
    "version": 3
   },
   "file_extension": ".py",
   "mimetype": "text/x-python",
   "name": "python",
   "nbconvert_exporter": "python",
   "pygments_lexer": "ipython3",
   "version": "3.12.4"
  }
 },
 "nbformat": 4,
 "nbformat_minor": 5
}
